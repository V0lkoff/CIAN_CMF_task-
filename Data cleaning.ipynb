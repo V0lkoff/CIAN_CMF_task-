{
 "cells": [
  {
   "cell_type": "markdown",
   "metadata": {},
   "source": [
    "# Чистка данных после парсинга ЦИАНа"
   ]
  },
  {
   "cell_type": "code",
   "execution_count": 99,
   "metadata": {
    "collapsed": false
   },
   "outputs": [],
   "source": [
    "import pandas as pd\n",
    "import numpy as np\n",
    "\n",
    "# for classification\n",
    "from sklearn.linear_model import LogisticRegression\n",
    "from sklearn.linear_model import LinearRegression\n",
    "from sklearn.ensemble import RandomForestClassifier as RFC\n",
    "\n",
    "# for plotting\n",
    "%matplotlib inline\n",
    "import matplotlib.pyplot as plt\n",
    "import seaborn as sns #for heatmap\n",
    "plt.style.use('ggplot')"
   ]
  },
  {
   "cell_type": "code",
   "execution_count": 100,
   "metadata": {
    "collapsed": false
   },
   "outputs": [],
   "source": [
    "data = pd.read_csv('flats_CAD.csv', sep=',', header=0)\n",
    "data.drop('Unnamed: 0',axis=1,inplace=True)"
   ]
  },
  {
   "cell_type": "code",
   "execution_count": 101,
   "metadata": {
    "collapsed": false
   },
   "outputs": [
    {
     "data": {
      "text/html": [
       "<div>\n",
       "<table border=\"1\" class=\"dataframe\">\n",
       "  <thead>\n",
       "    <tr style=\"text-align: right;\">\n",
       "      <th></th>\n",
       "      <th>Bal</th>\n",
       "      <th>Brick</th>\n",
       "      <th>Dist</th>\n",
       "      <th>Floor</th>\n",
       "      <th>Kitsp</th>\n",
       "      <th>Livesp</th>\n",
       "      <th>Metrdist</th>\n",
       "      <th>New</th>\n",
       "      <th>Nfloors</th>\n",
       "      <th>Price</th>\n",
       "      <th>Rooms</th>\n",
       "      <th>Tel</th>\n",
       "      <th>Totsp</th>\n",
       "      <th>Walk</th>\n",
       "      <th>lat</th>\n",
       "      <th>lon</th>\n",
       "    </tr>\n",
       "  </thead>\n",
       "  <tbody>\n",
       "    <tr>\n",
       "      <th>0</th>\n",
       "      <td>1.0</td>\n",
       "      <td>1.0</td>\n",
       "      <td>0.041516</td>\n",
       "      <td>3.0</td>\n",
       "      <td>12.1</td>\n",
       "      <td>66.8</td>\n",
       "      <td>2.0</td>\n",
       "      <td>0.0</td>\n",
       "      <td>7.0</td>\n",
       "      <td>93000000.0</td>\n",
       "      <td>3.0</td>\n",
       "      <td>0.0</td>\n",
       "      <td>142.0</td>\n",
       "      <td>1.0</td>\n",
       "      <td>55.750038</td>\n",
       "      <td>37.578460</td>\n",
       "    </tr>\n",
       "    <tr>\n",
       "      <th>1</th>\n",
       "      <td>1.0</td>\n",
       "      <td>1.0</td>\n",
       "      <td>0.020539</td>\n",
       "      <td>7.0</td>\n",
       "      <td>16.0</td>\n",
       "      <td>116.0</td>\n",
       "      <td>8.0</td>\n",
       "      <td>0.0</td>\n",
       "      <td>7.0</td>\n",
       "      <td>62234214.0</td>\n",
       "      <td>4.0</td>\n",
       "      <td>1.0</td>\n",
       "      <td>172.0</td>\n",
       "      <td>1.0</td>\n",
       "      <td>55.773024</td>\n",
       "      <td>37.612829</td>\n",
       "    </tr>\n",
       "    <tr>\n",
       "      <th>2</th>\n",
       "      <td>0.0</td>\n",
       "      <td>1.0</td>\n",
       "      <td>0.026355</td>\n",
       "      <td>3.0</td>\n",
       "      <td>NaN</td>\n",
       "      <td>NaN</td>\n",
       "      <td>9.0</td>\n",
       "      <td>0.0</td>\n",
       "      <td>7.0</td>\n",
       "      <td>81280000.0</td>\n",
       "      <td>3.0</td>\n",
       "      <td>1.0</td>\n",
       "      <td>146.3</td>\n",
       "      <td>1.0</td>\n",
       "      <td>55.744024</td>\n",
       "      <td>37.644324</td>\n",
       "    </tr>\n",
       "    <tr>\n",
       "      <th>3</th>\n",
       "      <td>0.0</td>\n",
       "      <td>0.0</td>\n",
       "      <td>0.057014</td>\n",
       "      <td>2.0</td>\n",
       "      <td>NaN</td>\n",
       "      <td>NaN</td>\n",
       "      <td>5.0</td>\n",
       "      <td>0.0</td>\n",
       "      <td>5.0</td>\n",
       "      <td>4814581.0</td>\n",
       "      <td>1.0</td>\n",
       "      <td>NaN</td>\n",
       "      <td>17.3</td>\n",
       "      <td>1.0</td>\n",
       "      <td>55.776294</td>\n",
       "      <td>37.672163</td>\n",
       "    </tr>\n",
       "    <tr>\n",
       "      <th>4</th>\n",
       "      <td>0.0</td>\n",
       "      <td>1.0</td>\n",
       "      <td>0.057014</td>\n",
       "      <td>2.0</td>\n",
       "      <td>NaN</td>\n",
       "      <td>17.3</td>\n",
       "      <td>5.0</td>\n",
       "      <td>0.0</td>\n",
       "      <td>6.0</td>\n",
       "      <td>4814581.0</td>\n",
       "      <td>1.0</td>\n",
       "      <td>0.0</td>\n",
       "      <td>17.3</td>\n",
       "      <td>1.0</td>\n",
       "      <td>55.776294</td>\n",
       "      <td>37.672163</td>\n",
       "    </tr>\n",
       "  </tbody>\n",
       "</table>\n",
       "</div>"
      ],
      "text/plain": [
       "   Bal  Brick      Dist  Floor  Kitsp  Livesp  Metrdist  New  Nfloors  \\\n",
       "0  1.0    1.0  0.041516    3.0   12.1    66.8       2.0  0.0      7.0   \n",
       "1  1.0    1.0  0.020539    7.0   16.0   116.0       8.0  0.0      7.0   \n",
       "2  0.0    1.0  0.026355    3.0    NaN     NaN       9.0  0.0      7.0   \n",
       "3  0.0    0.0  0.057014    2.0    NaN     NaN       5.0  0.0      5.0   \n",
       "4  0.0    1.0  0.057014    2.0    NaN    17.3       5.0  0.0      6.0   \n",
       "\n",
       "        Price  Rooms  Tel  Totsp  Walk        lat        lon  \n",
       "0  93000000.0    3.0  0.0  142.0   1.0  55.750038  37.578460  \n",
       "1  62234214.0    4.0  1.0  172.0   1.0  55.773024  37.612829  \n",
       "2  81280000.0    3.0  1.0  146.3   1.0  55.744024  37.644324  \n",
       "3   4814581.0    1.0  NaN   17.3   1.0  55.776294  37.672163  \n",
       "4   4814581.0    1.0  0.0   17.3   1.0  55.776294  37.672163  "
      ]
     },
     "execution_count": 101,
     "metadata": {},
     "output_type": "execute_result"
    }
   ],
   "source": [
    "data.head()"
   ]
  },
  {
   "cell_type": "code",
   "execution_count": 102,
   "metadata": {
    "collapsed": false
   },
   "outputs": [
    {
     "name": "stdout",
     "output_type": "stream",
     "text": [
      "<class 'pandas.core.frame.DataFrame'>\n",
      "RangeIndex: 812 entries, 0 to 811\n",
      "Data columns (total 16 columns):\n",
      "Bal         812 non-null float64\n",
      "Brick       812 non-null float64\n",
      "Dist        812 non-null float64\n",
      "Floor       812 non-null float64\n",
      "Kitsp       460 non-null float64\n",
      "Livesp      691 non-null float64\n",
      "Metrdist    802 non-null float64\n",
      "New         812 non-null float64\n",
      "Nfloors     768 non-null float64\n",
      "Price       812 non-null float64\n",
      "Rooms       810 non-null float64\n",
      "Tel         434 non-null float64\n",
      "Totsp       812 non-null float64\n",
      "Walk        802 non-null float64\n",
      "lat         812 non-null float64\n",
      "lon         812 non-null float64\n",
      "dtypes: float64(16)\n",
      "memory usage: 101.6 KB\n"
     ]
    }
   ],
   "source": [
    "data.info()"
   ]
  },
  {
   "cell_type": "code",
   "execution_count": 103,
   "metadata": {
    "collapsed": true
   },
   "outputs": [],
   "source": [
    "col_names = data.columns"
   ]
  },
  {
   "cell_type": "markdown",
   "metadata": {
    "collapsed": true
   },
   "source": [
    "## Карта цен"
   ]
  },
  {
   "cell_type": "markdown",
   "metadata": {},
   "source": [
    "Нарисуем **карту цен**, вдруг присутствуют особо дорогие районы. Видим что цены более-менее равномерные, единственные немного выделяющийся участок - в районе Хамовников."
   ]
  },
  {
   "cell_type": "code",
   "execution_count": 104,
   "metadata": {
    "collapsed": false
   },
   "outputs": [
    {
     "data": {
      "image/png": "[encoded data removed]",
      "text/plain": [
       "<matplotlib.figure.Figure at 0x7f6a3bf4cf98>"
      ]
     },
     "metadata": {},
     "output_type": "display_data"
    }
   ],
   "source": [
    "plt.figure(figsize = (10, 8))\n",
    "plt.scatter(data.lon, data.lat, c=data.Price, cmap='hot', s=39, alpha=0.6)\n",
    "plt.colorbar()\n",
    "plt.show()"
   ]
  },
  {
   "cell_type": "markdown",
   "metadata": {},
   "source": [
    "![](map_tsao.gif)"
   ]
  },
  {
   "cell_type": "markdown",
   "metadata": {},
   "source": [
    "## Разберемся с NaN"
   ]
  },
  {
   "cell_type": "code",
   "execution_count": 105,
   "metadata": {
    "collapsed": false
   },
   "outputs": [
    {
     "data": {
      "text/plain": [
       "12992"
      ]
     },
     "execution_count": 105,
     "metadata": {},
     "output_type": "execute_result"
    }
   ],
   "source": [
    "data[np.isnan(data)].size"
   ]
  },
  {
   "cell_type": "markdown",
   "metadata": {
    "collapsed": false
   },
   "source": [
    "Общее число неуказанных значений в таблице"
   ]
  },
  {
   "cell_type": "code",
   "execution_count": 106,
   "metadata": {
    "collapsed": false
   },
   "outputs": [
    {
     "data": {
      "text/plain": [
       "Bal           0\n",
       "Brick         0\n",
       "Dist          0\n",
       "Floor         0\n",
       "Kitsp       352\n",
       "Livesp      121\n",
       "Metrdist     10\n",
       "New           0\n",
       "Nfloors      44\n",
       "Price         0\n",
       "Rooms         2\n",
       "Tel         378\n",
       "Totsp         0\n",
       "Walk         10\n",
       "lat           0\n",
       "lon           0\n",
       "dtype: int64"
      ]
     },
     "execution_count": 106,
     "metadata": {},
     "output_type": "execute_result"
    }
   ],
   "source": [
    "np.sum(pd.isnull(data))"
   ]
  },
  {
   "cell_type": "code",
   "execution_count": 107,
   "metadata": {
    "collapsed": false
   },
   "outputs": [
    {
     "data": {
      "image/png": "[encoded data removed]",
      "text/plain": [
       "<matplotlib.figure.Figure at 0x7f6a3bff4588>"
      ]
     },
     "metadata": {},
     "output_type": "display_data"
    }
   ],
   "source": [
    "# bar()\n",
    "plt.figure(figsize = (9, 4))\n",
    "plt.bar(range(count), nans)\n",
    "#plt.var(list(col_names), nans)\n",
    "plt.title('Number of NaNs')\n",
    "plt.grid(True)   # линии вспомогательной сетки\n"
   ]
  },
  {
   "cell_type": "markdown",
   "metadata": {},
   "source": [
    "### Число этажей\n",
    "Заполним неуказанное число этажей предсказаниями линейной модели исходя из цены квратиры, ее размера и текущего этажа"
   ]
  },
  {
   "cell_type": "code",
   "execution_count": 108,
   "metadata": {
    "collapsed": true
   },
   "outputs": [],
   "source": [
    "nfloors = LinearRegression()\n",
    "nfloors.fit(data[-np.isnan(data.Nfloors)][['Floor', 'Price', 'Totsp']], \n",
    "            data.Nfloors[-np.isnan(data.Nfloors)])\n",
    "nfloors_pred = nfloors.predict(data[np.isnan(data.Nfloors)][['Floor', 'Price', 'Totsp']])\n",
    "data.Nfloors[np.isnan(data.Nfloors)] = nfloors_pred.astype(int)"
   ]
  },
  {
   "cell_type": "markdown",
   "metadata": {},
   "source": [
    "Убедимся, что не оказалось этажа выше максимального числа и что болье нет неуказанных значений"
   ]
  },
  {
   "cell_type": "code",
   "execution_count": 109,
   "metadata": {
    "collapsed": false
   },
   "outputs": [
    {
     "data": {
      "text/html": [
       "<div>\n",
       "<table border=\"1\" class=\"dataframe\">\n",
       "  <thead>\n",
       "    <tr style=\"text-align: right;\">\n",
       "      <th></th>\n",
       "      <th>Bal</th>\n",
       "      <th>Brick</th>\n",
       "      <th>Dist</th>\n",
       "      <th>Floor</th>\n",
       "      <th>Kitsp</th>\n",
       "      <th>Livesp</th>\n",
       "      <th>Metrdist</th>\n",
       "      <th>New</th>\n",
       "      <th>Nfloors</th>\n",
       "      <th>Price</th>\n",
       "      <th>Rooms</th>\n",
       "      <th>Tel</th>\n",
       "      <th>Totsp</th>\n",
       "      <th>Walk</th>\n",
       "      <th>lat</th>\n",
       "      <th>lon</th>\n",
       "    </tr>\n",
       "  </thead>\n",
       "  <tbody>\n",
       "  </tbody>\n",
       "</table>\n",
       "</div>"
      ],
      "text/plain": [
       "Empty DataFrame\n",
       "Columns: [Bal, Brick, Dist, Floor, Kitsp, Livesp, Metrdist, New, Nfloors, Price, Rooms, Tel, Totsp, Walk, lat, lon]\n",
       "Index: []"
      ]
     },
     "execution_count": 109,
     "metadata": {},
     "output_type": "execute_result"
    }
   ],
   "source": [
    "data[data.Floor > data.Nfloors]"
   ]
  },
  {
   "cell_type": "code",
   "execution_count": 110,
   "metadata": {
    "collapsed": false
   },
   "outputs": [
    {
     "data": {
      "text/plain": [
       "0"
      ]
     },
     "execution_count": 110,
     "metadata": {},
     "output_type": "execute_result"
    }
   ],
   "source": [
    "len(data.Nfloors) - data.Nfloors.count()"
   ]
  },
  {
   "cell_type": "markdown",
   "metadata": {},
   "source": [
    "### Расстояние до метро\n",
    "Оценим с помощью random forest, используя координаты квартир"
   ]
  },
  {
   "cell_type": "code",
   "execution_count": 111,
   "metadata": {
    "collapsed": false
   },
   "outputs": [
    {
     "data": {
      "text/plain": [
       "RandomForestClassifier(bootstrap=True, class_weight=None, criterion='gini',\n",
       "            max_depth=None, max_features='auto', max_leaf_nodes=None,\n",
       "            min_impurity_split=1e-07, min_samples_leaf=1,\n",
       "            min_samples_split=2, min_weight_fraction_leaf=0.0,\n",
       "            n_estimators=10, n_jobs=1, oob_score=False, random_state=None,\n",
       "            verbose=0, warm_start=False)"
      ]
     },
     "execution_count": 111,
     "metadata": {},
     "output_type": "execute_result"
    }
   ],
   "source": [
    "rf_Metrdist = RFC(n_estimators=10)\n",
    "rf_Metrdist.fit(data[-np.isnan(data.Metrdist)][['lat', 'lon']],\n",
    "               data.Metrdist[-np.isnan(data.Metrdist)])"
   ]
  },
  {
   "cell_type": "code",
   "execution_count": 112,
   "metadata": {
    "collapsed": false
   },
   "outputs": [],
   "source": [
    "data.Metrdist[np.isnan(data.Metrdist)] = rf_Metrdist.predict(data[np.isnan(data.Metrdist)][['lat', 'lon']])"
   ]
  },
  {
   "cell_type": "code",
   "execution_count": 113,
   "metadata": {
    "collapsed": false
   },
   "outputs": [
    {
     "data": {
      "text/plain": [
       "RandomForestClassifier(bootstrap=True, class_weight=None, criterion='gini',\n",
       "            max_depth=None, max_features='auto', max_leaf_nodes=None,\n",
       "            min_impurity_split=1e-07, min_samples_leaf=1,\n",
       "            min_samples_split=2, min_weight_fraction_leaf=0.0,\n",
       "            n_estimators=10, n_jobs=1, oob_score=False, random_state=None,\n",
       "            verbose=0, warm_start=False)"
      ]
     },
     "execution_count": 113,
     "metadata": {},
     "output_type": "execute_result"
    }
   ],
   "source": [
    "rf_Walk = RFC(n_estimators=10)\n",
    "rf_Walk.fit(data[-np.isnan(data.Walk)][['lat', 'lon']],\n",
    "          data.Walk[-np.isnan(data.Walk)])"
   ]
  },
  {
   "cell_type": "code",
   "execution_count": 114,
   "metadata": {
    "collapsed": true
   },
   "outputs": [],
   "source": [
    "data.Walk[np.isnan(data.Walk)] = rf_Walk.predict(data[np.isnan(data.Walk)][['lat', 'lon']])"
   ]
  },
  {
   "cell_type": "markdown",
   "metadata": {},
   "source": [
    "убедимся, что убрали все NaN"
   ]
  },
  {
   "cell_type": "code",
   "execution_count": 115,
   "metadata": {
    "collapsed": false
   },
   "outputs": [
    {
     "name": "stdout",
     "output_type": "stream",
     "text": [
      "0\n",
      "0\n"
     ]
    }
   ],
   "source": [
    "print(len(data.Walk) - data.Walk.count())\n",
    "print(len(data.Metrdist) - data.Metrdist.count())"
   ]
  },
  {
   "cell_type": "markdown",
   "metadata": {},
   "source": [
    "### Число комнат\n",
    "Отсутствует в двух больших квартирах"
   ]
  },
  {
   "cell_type": "code",
   "execution_count": 116,
   "metadata": {
    "collapsed": false
   },
   "outputs": [
    {
     "data": {
      "text/html": [
       "<div>\n",
       "<table border=\"1\" class=\"dataframe\">\n",
       "  <thead>\n",
       "    <tr style=\"text-align: right;\">\n",
       "      <th></th>\n",
       "      <th>Bal</th>\n",
       "      <th>Brick</th>\n",
       "      <th>Dist</th>\n",
       "      <th>Floor</th>\n",
       "      <th>Kitsp</th>\n",
       "      <th>Livesp</th>\n",
       "      <th>Metrdist</th>\n",
       "      <th>New</th>\n",
       "      <th>Nfloors</th>\n",
       "      <th>Price</th>\n",
       "      <th>Rooms</th>\n",
       "      <th>Tel</th>\n",
       "      <th>Totsp</th>\n",
       "      <th>Walk</th>\n",
       "      <th>lat</th>\n",
       "      <th>lon</th>\n",
       "    </tr>\n",
       "  </thead>\n",
       "  <tbody>\n",
       "    <tr>\n",
       "      <th>532</th>\n",
       "      <td>1.0</td>\n",
       "      <td>0.0</td>\n",
       "      <td>0.016364</td>\n",
       "      <td>11.0</td>\n",
       "      <td>15.0</td>\n",
       "      <td>170.0</td>\n",
       "      <td>4.0</td>\n",
       "      <td>0.0</td>\n",
       "      <td>11.0</td>\n",
       "      <td>381025800.0</td>\n",
       "      <td>NaN</td>\n",
       "      <td>NaN</td>\n",
       "      <td>285.0</td>\n",
       "      <td>1.0</td>\n",
       "      <td>55.738216</td>\n",
       "      <td>37.614545</td>\n",
       "    </tr>\n",
       "    <tr>\n",
       "      <th>646</th>\n",
       "      <td>0.0</td>\n",
       "      <td>0.0</td>\n",
       "      <td>0.026699</td>\n",
       "      <td>4.0</td>\n",
       "      <td>NaN</td>\n",
       "      <td>166.7</td>\n",
       "      <td>15.0</td>\n",
       "      <td>0.0</td>\n",
       "      <td>5.0</td>\n",
       "      <td>53000000.0</td>\n",
       "      <td>NaN</td>\n",
       "      <td>1.0</td>\n",
       "      <td>265.0</td>\n",
       "      <td>1.0</td>\n",
       "      <td>55.756918</td>\n",
       "      <td>37.646318</td>\n",
       "    </tr>\n",
       "  </tbody>\n",
       "</table>\n",
       "</div>"
      ],
      "text/plain": [
       "     Bal  Brick      Dist  Floor  Kitsp  Livesp  Metrdist  New  Nfloors  \\\n",
       "532  1.0    0.0  0.016364   11.0   15.0   170.0       4.0  0.0     11.0   \n",
       "646  0.0    0.0  0.026699    4.0    NaN   166.7      15.0  0.0      5.0   \n",
       "\n",
       "           Price  Rooms  Tel  Totsp  Walk        lat        lon  \n",
       "532  381025800.0    NaN  NaN  285.0   1.0  55.738216  37.614545  \n",
       "646   53000000.0    NaN  1.0  265.0   1.0  55.756918  37.646318  "
      ]
     },
     "execution_count": 116,
     "metadata": {},
     "output_type": "execute_result"
    }
   ],
   "source": [
    "data[np.isnan(data.Rooms)]"
   ]
  },
  {
   "cell_type": "markdown",
   "metadata": {},
   "source": [
    "Посмотрим на квартиры схожего размера и руками зададим число"
   ]
  },
  {
   "cell_type": "code",
   "execution_count": 117,
   "metadata": {
    "collapsed": false
   },
   "outputs": [
    {
     "data": {
      "text/plain": [
       "114    4.0\n",
       "532    NaN\n",
       "589    5.0\n",
       "646    NaN\n",
       "730    5.0\n",
       "Name: Rooms, dtype: float64"
      ]
     },
     "execution_count": 117,
     "metadata": {},
     "output_type": "execute_result"
    }
   ],
   "source": [
    "data[data.Totsp>250].Rooms"
   ]
  },
  {
   "cell_type": "code",
   "execution_count": 118,
   "metadata": {
    "collapsed": true
   },
   "outputs": [],
   "source": [
    "data.Rooms[np.isnan(data.Rooms)]=[5,5]"
   ]
  },
  {
   "cell_type": "code",
   "execution_count": 119,
   "metadata": {
    "collapsed": false
   },
   "outputs": [
    {
     "name": "stdout",
     "output_type": "stream",
     "text": [
      "0\n"
     ]
    }
   ],
   "source": [
    "print(len(data.Rooms) - data.Rooms.count())"
   ]
  },
  {
   "cell_type": "markdown",
   "metadata": {},
   "source": [
    "### Площадь кухни и жилая площадь\n",
    "Значений пропущено довольно много, поэтому просто выкидывать данные нельзя. Предсказывать тоже трудно, но можно исходить из того, что эти параметры примерно определяются общей площадью, числом комнат, типом дома, ценой и фактом, новизной постройки."
   ]
  },
  {
   "cell_type": "code",
   "execution_count": 120,
   "metadata": {
    "collapsed": false
   },
   "outputs": [
    {
     "data": {
      "text/plain": [
       "Index(['Bal', 'Brick', 'Dist', 'Floor', 'Kitsp', 'Livesp', 'Metrdist', 'New',\n",
       "       'Nfloors', 'Price', 'Rooms', 'Tel', 'Totsp', 'Walk', 'lat', 'lon'],\n",
       "      dtype='object')"
      ]
     },
     "execution_count": 120,
     "metadata": {},
     "output_type": "execute_result"
    }
   ],
   "source": [
    "col_names"
   ]
  },
  {
   "cell_type": "code",
   "execution_count": 121,
   "metadata": {
    "collapsed": false
   },
   "outputs": [
    {
     "data": {
      "text/plain": [
       "LinearRegression(copy_X=True, fit_intercept=True, n_jobs=1, normalize=False)"
      ]
     },
     "execution_count": 121,
     "metadata": {},
     "output_type": "execute_result"
    }
   ],
   "source": [
    "kitsp_mod = LinearRegression()\n",
    "kitsp_mod.fit(data[-np.isnan(data.Kitsp)][['Totsp', 'Rooms', 'Price', 'Brick',  'New']],\n",
    "             data.Kitsp[-np.isnan(data.Kitsp)])"
   ]
  },
  {
   "cell_type": "code",
   "execution_count": 122,
   "metadata": {
    "collapsed": false
   },
   "outputs": [],
   "source": [
    "data.Kitsp[np.isnan(data.Kitsp)] = kitsp_mod.predict(data[np.isnan(data.Kitsp)][['Totsp', 'Rooms', 'Price', 'Brick',  'New']]).astype(int)"
   ]
  },
  {
   "cell_type": "code",
   "execution_count": 123,
   "metadata": {
    "collapsed": false
   },
   "outputs": [
    {
     "data": {
      "text/plain": [
       "LinearRegression(copy_X=True, fit_intercept=True, n_jobs=1, normalize=False)"
      ]
     },
     "execution_count": 123,
     "metadata": {},
     "output_type": "execute_result"
    }
   ],
   "source": [
    "livesp_mod = LinearRegression()\n",
    "livesp_mod.fit(data[-np.isnan(data.Livesp)][['Totsp', 'Rooms', 'Price', 'Brick',  'New']],\n",
    "             data.Livesp[-np.isnan(data.Livesp)])"
   ]
  },
  {
   "cell_type": "code",
   "execution_count": 124,
   "metadata": {
    "collapsed": true
   },
   "outputs": [],
   "source": [
    "data.Livesp[np.isnan(data.Livesp)] = livesp_mod.predict(data[np.isnan(data.Livesp)]\n",
    "                                                      [['Totsp', 'Rooms', 'Price', 'Brick',  'New']]).round(1)"
   ]
  },
  {
   "cell_type": "markdown",
   "metadata": {},
   "source": [
    "Убедимся, что не осталось незаданных значений"
   ]
  },
  {
   "cell_type": "code",
   "execution_count": 125,
   "metadata": {
    "collapsed": false
   },
   "outputs": [
    {
     "name": "stdout",
     "output_type": "stream",
     "text": [
      "0\n",
      "0\n"
     ]
    }
   ],
   "source": [
    "print(len(data.Kitsp) - data.Kitsp.count())\n",
    "print(len(data.Livesp) - data.Livesp.count())"
   ]
  },
  {
   "cell_type": "markdown",
   "metadata": {
    "collapsed": true
   },
   "source": [
    "### Телефон \n",
    "Судя по гистограмме, только примерно в 2/3 современных домов в ЦАО установлен телефон. Поэтому нельзя просто заполнить это поле 0 или 1. Для удаления *NaN* в наличии телефона построим простейшую логистическую регрессию."
   ]
  },
  {
   "cell_type": "code",
   "execution_count": 126,
   "metadata": {
    "collapsed": false
   },
   "outputs": [
    {
     "data": {
      "text/plain": [
       "<matplotlib.axes._subplots.AxesSubplot at 0x7f6a3c102b70>"
      ]
     },
     "execution_count": 126,
     "metadata": {},
     "output_type": "execute_result"
    },
    {
     "data": {
      "image/png": "[encoded data removed]",
      "text/plain": [
       "<matplotlib.figure.Figure at 0x7f6a3c16cd68>"
      ]
     },
     "metadata": {},
     "output_type": "display_data"
    }
   ],
   "source": [
    "data.Tel.plot.hist(bins=2)"
   ]
  },
  {
   "cell_type": "code",
   "execution_count": 127,
   "metadata": {
    "collapsed": false
   },
   "outputs": [
    {
     "data": {
      "text/plain": [
       "RandomForestClassifier(bootstrap=True, class_weight=None, criterion='gini',\n",
       "            max_depth=None, max_features='auto', max_leaf_nodes=None,\n",
       "            min_impurity_split=1e-07, min_samples_leaf=1,\n",
       "            min_samples_split=2, min_weight_fraction_leaf=0.0,\n",
       "            n_estimators=10, n_jobs=1, oob_score=False, random_state=None,\n",
       "            verbose=0, warm_start=False)"
      ]
     },
     "execution_count": 127,
     "metadata": {},
     "output_type": "execute_result"
    }
   ],
   "source": [
    "rf_Phone = RFC(n_estimators=10)\n",
    "rf_Phone.fit(data[-np.isnan(data.Tel)].drop(['Tel'], axis=1),\n",
    "          data.Tel[-np.isnan(data.Tel)])"
   ]
  },
  {
   "cell_type": "code",
   "execution_count": 128,
   "metadata": {
    "collapsed": false
   },
   "outputs": [],
   "source": [
    "data.Tel[np.isnan(data.Tel)] = rf_Phone.predict(data[np.isnan(data.Tel)].drop(['Tel'], axis=1))"
   ]
  },
  {
   "cell_type": "code",
   "execution_count": 129,
   "metadata": {
    "collapsed": false
   },
   "outputs": [
    {
     "data": {
      "text/plain": [
       "0"
      ]
     },
     "execution_count": 129,
     "metadata": {},
     "output_type": "execute_result"
    }
   ],
   "source": [
    "len(data.Tel) - data.Tel.count()"
   ]
  },
  {
   "cell_type": "markdown",
   "metadata": {},
   "source": [
    "## Проверим типы данных и запишем результат в новый файл\n",
    "при этом в некоторых случаях приведем типы к более оптимальным"
   ]
  },
  {
   "cell_type": "code",
   "execution_count": 130,
   "metadata": {
    "collapsed": false
   },
   "outputs": [
    {
     "name": "stdout",
     "output_type": "stream",
     "text": [
      "<class 'pandas.core.frame.DataFrame'>\n",
      "RangeIndex: 812 entries, 0 to 811\n",
      "Data columns (total 16 columns):\n",
      "Bal         812 non-null float64\n",
      "Brick       812 non-null float64\n",
      "Dist        812 non-null float64\n",
      "Floor       812 non-null float64\n",
      "Kitsp       812 non-null float64\n",
      "Livesp      812 non-null float64\n",
      "Metrdist    812 non-null float64\n",
      "New         812 non-null float64\n",
      "Nfloors     812 non-null float64\n",
      "Price       812 non-null float64\n",
      "Rooms       812 non-null float64\n",
      "Tel         812 non-null float64\n",
      "Totsp       812 non-null float64\n",
      "Walk        812 non-null float64\n",
      "lat         812 non-null float64\n",
      "lon         812 non-null float64\n",
      "dtypes: float64(16)\n",
      "memory usage: 101.6 KB\n"
     ]
    }
   ],
   "source": [
    "data.info()"
   ]
  },
  {
   "cell_type": "code",
   "execution_count": 131,
   "metadata": {
    "collapsed": false
   },
   "outputs": [],
   "source": [
    "data.Bal = data.Bal.astype(bool)\n",
    "data.Brick = data.Brick.astype(bool)\n",
    "data.Floor = data.Floor.astype(int)\n",
    "data.Metrdist = data.Metrdist.astype(int)\n",
    "data.New = data.New.astype(bool)\n",
    "data.Nfloors = data.Nfloors.astype(int)\n",
    "data.Price = data.Price.astype(int)\n",
    "data.Rooms = data.Rooms.astype(int)\n",
    "data.Tel = data.Tel.astype(bool)\n",
    "data.Walk = data.Walk.astype(bool)"
   ]
  },
  {
   "cell_type": "code",
   "execution_count": 132,
   "metadata": {
    "collapsed": false
   },
   "outputs": [
    {
     "name": "stdout",
     "output_type": "stream",
     "text": [
      "<class 'pandas.core.frame.DataFrame'>\n",
      "RangeIndex: 812 entries, 0 to 811\n",
      "Data columns (total 16 columns):\n",
      "Bal         812 non-null bool\n",
      "Brick       812 non-null bool\n",
      "Dist        812 non-null float64\n",
      "Floor       812 non-null int64\n",
      "Kitsp       812 non-null float64\n",
      "Livesp      812 non-null float64\n",
      "Metrdist    812 non-null int64\n",
      "New         812 non-null bool\n",
      "Nfloors     812 non-null int64\n",
      "Price       812 non-null int64\n",
      "Rooms       812 non-null int64\n",
      "Tel         812 non-null bool\n",
      "Totsp       812 non-null float64\n",
      "Walk        812 non-null bool\n",
      "lat         812 non-null float64\n",
      "lon         812 non-null float64\n",
      "dtypes: bool(5), float64(6), int64(5)\n",
      "memory usage: 73.8 KB\n"
     ]
    }
   ],
   "source": [
    "data.info()"
   ]
  },
  {
   "cell_type": "code",
   "execution_count": 133,
   "metadata": {
    "collapsed": false
   },
   "outputs": [],
   "source": [
    "corr_matrix = np.abs(data.corr())"
   ]
  },
  {
   "cell_type": "code",
   "execution_count": 134,
   "metadata": {
    "collapsed": false
   },
   "outputs": [
    {
     "data": {
      "text/plain": [
       "<matplotlib.axes._subplots.AxesSubplot at 0x7f6a3c176048>"
      ]
     },
     "execution_count": 134,
     "metadata": {},
     "output_type": "execute_result"
    },
    {
     "data": {
      "image/png": "[encoded data removed]",
      "text/plain": [
       "<matplotlib.figure.Figure at 0x7f6a3bfd5a20>"
      ]
     },
     "metadata": {},
     "output_type": "display_data"
    }
   ],
   "source": [
    "plt.figure(figsize = (9, 6))\n",
    "sns.heatmap(corr_matrix,\n",
    "            xticklabels=col_names.values,\n",
    "            yticklabels=col_names.values, annot=False, \n",
    "            alpha = 0.9, cmap='Blues')"
   ]
  },
  {
   "cell_type": "code",
   "execution_count": 135,
   "metadata": {
    "collapsed": false
   },
   "outputs": [],
   "source": [
    "corr_matrix = np.asmatrix(corr_matrix)"
   ]
  },
  {
   "cell_type": "code",
   "execution_count": 136,
   "metadata": {
    "collapsed": false
   },
   "outputs": [
    {
     "data": {
      "text/plain": [
       "0.14885191657684693"
      ]
     },
     "execution_count": 136,
     "metadata": {},
     "output_type": "execute_result"
    }
   ],
   "source": [
    "corr_matrix[0,15]"
   ]
  },
  {
   "cell_type": "markdown",
   "metadata": {},
   "source": [
    "Отберем корреляции выше порогового значения"
   ]
  },
  {
   "cell_type": "code",
   "execution_count": 137,
   "metadata": {
    "collapsed": false
   },
   "outputs": [
    {
     "name": "stdout",
     "output_type": "stream",
     "text": [
      "corr between Price and Livesp = 0.694650354504\n",
      "corr between Rooms and Livesp = 0.688870623924\n",
      "corr between Totsp and Kitsp = 0.608207937649\n",
      "corr between Totsp and Livesp = 0.887155568549\n",
      "corr between Totsp and Price = 0.770519754117\n",
      "corr between Totsp and Rooms = 0.755072439327\n"
     ]
    }
   ],
   "source": [
    "border = 0.5\n",
    "for i in range(1,len(col_names.values)):\n",
    "    for j in range(i):\n",
    "        if corr_matrix[i,j] > border:\n",
    "            print('corr between', col_names.values[i], 'and',  col_names.values[j], '=', corr_matrix[i,j])"
   ]
  },
  {
   "cell_type": "code",
   "execution_count": 138,
   "metadata": {
    "collapsed": false
   },
   "outputs": [],
   "source": [
    "data.to_csv('Flats_handled.csv')"
   ]
  }
 ],
 "metadata": {
  "anaconda-cloud": {},
  "kernelspec": {
   "display_name": "Python 3",
   "language": "python",
   "name": "python3"
  },
  "language_info": {
   "codemirror_mode": {
    "name": "ipython",
    "version": 3
   },
   "file_extension": ".py",
   "mimetype": "text/x-python",
   "name": "python",
   "nbconvert_exporter": "python",
   "pygments_lexer": "ipython3",
   "version": "3.5.2"
  }
 },
 "nbformat": 4,
 "nbformat_minor": 1
}
